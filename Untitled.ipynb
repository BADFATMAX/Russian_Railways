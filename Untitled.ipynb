{
 "cells": [
  {
   "cell_type": "code",
   "execution_count": 24,
   "id": "fc761d57-748d-49af-a79c-645594e3fded",
   "metadata": {},
   "outputs": [],
   "source": [
    "import xml.etree.ElementTree as ET\n",
    "tree = ET.parse('1. Ю-ВОСТ.udx')\n",
    "root = tree.getroot()"
   ]
  },
  {
   "cell_type": "code",
   "execution_count": 28,
   "id": "aff55b63-e279-4671-ade6-b94dde7fe4b8",
   "metadata": {},
   "outputs": [],
   "source": [
    "def build_xml_empty():\n",
    "    rows = ['Перегон Ш-А', \"1 путь\", \"2 путь\", \"ТО локомотива\", \"Бригада ПТО\", \"Сигналист\", \"Перегон А-Б\"]\n",
    "    cols = list(range(6, 22))\n",
    "    r_width = 1\n",
    "    min_approx = 2\n",
    "    \n",
    "    root = ET.Element('xml')\n",
    "    table = ET.SubElement(root, 'table')\n",
    "    table.set('rows', str(len(rows)))\n",
    "    table.set('cols', str(len(cols)))\n",
    "    for i in range(len(rows)):\n",
    "        row = ET.Element('row')\n",
    "        table.append(row)\n",
    "        row.set('name', rows[i])\n",
    "        row.set('width', str(r_width))\n",
    "        for j in range(len(cols)):\n",
    "            col = ET.Element('col')\n",
    "            row.append(col)\n",
    "            col.set('date_t', str(cols[i]))\n",
    "            col.set('min_approx', str(min_approx)) \n",
    "    return root"
   ]
  },
  {
   "cell_type": "code",
   "execution_count": 29,
   "id": "a1a6c795-de3a-4f70-814a-3716e4c9c4c2",
   "metadata": {},
   "outputs": [
    {
     "name": "stdout",
     "output_type": "stream",
     "text": [
      "{http://www.imsat.spb.ru/editor/v1.0}Свойства {}\n",
      "{http://www.imsat.spb.ru/editor/v1.0}Настройки {}\n",
      "{http://www.imsat.spb.ru/editor/v1.0}ПользСвойства {}\n",
      "{http://www.imsat.spb.ru/editor/v1.0}defs {}\n",
      "{http://www.imsat.spb.ru/editor/v1.0}Слои {'Текущий': '0'}\n",
      "{http://www.imsat.spb.ru/editor/v1.0}views {'current': 'view1'}\n",
      "{http://www.imsat.spb.ru/editor/v1.0}Листы {}\n"
     ]
    }
   ],
   "source": [
    "for child in root:\n",
    "    print(child.tag, child.attrib)"
   ]
  },
  {
   "cell_type": "code",
   "execution_count": 31,
   "id": "963d144d-181e-4cc6-9454-2dc8d4681328",
   "metadata": {},
   "outputs": [],
   "source": [
    "rewrite = ET.ElementTree()\n",
    "rewrite._setroot(build_xml_empty())\n",
    "rewrite.write('s.xml', encoding=\"UTF-8\",xml_declaration=True)"
   ]
  },
  {
   "cell_type": "code",
   "execution_count": 32,
   "id": "02e530ee-7c0b-4e52-8a35-b358c51994c6",
   "metadata": {},
   "outputs": [],
   "source": [
    "import flet as ft\n",
    "import time"
   ]
  }
 ],
 "metadata": {
  "kernelspec": {
   "display_name": "Python 3 (ipykernel)",
   "language": "python",
   "name": "python3"
  },
  "language_info": {
   "codemirror_mode": {
    "name": "ipython",
    "version": 3
   },
   "file_extension": ".py",
   "mimetype": "text/x-python",
   "name": "python",
   "nbconvert_exporter": "python",
   "pygments_lexer": "ipython3",
   "version": "3.9.10"
  }
 },
 "nbformat": 4,
 "nbformat_minor": 5
}
